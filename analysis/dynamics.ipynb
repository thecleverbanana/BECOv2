{
 "cells": [
  {
   "cell_type": "markdown",
   "id": "e3dfe9c3",
   "metadata": {},
   "source": [
    "# Dynamics"
   ]
  },
  {
   "cell_type": "code",
   "execution_count": null,
   "id": "2edaae29",
   "metadata": {},
   "outputs": [],
   "source": [
    "import sympy as sp\n",
    "from sympy import symbols, Eq, sin, pi, solve, nsolve, N\n",
    "\n",
    "# ---------- 1) Symbol definitions ----------\n",
    "x, A, T = symbols('x A T')\n",
    "pA_x, pA_y = symbols('pA_x pA_y')\n",
    "pB_x, pB_y = symbols('pB_x pB_y')\n",
    "r_x, r_y   = symbols('r_x r_y')      # hip joint / middle joint\n",
    "\n",
    "Leg1, Leg2, Spine, Arm = symbols('Leg1 Leg2 Spine Arm')  # link lengths\n",
    "\n",
    "# ---------- 2) Numerical values ----------\n",
    "subs_dict = {\n",
    "    A: 0.01,        # terrain amplitude\n",
    "    T: 0.10,       # terrain wavelength\n",
    "    pA_x: 1,     # x-coordinate of point A\n",
    "    Leg1: 0.03,    # left leg length\n",
    "    Leg2: 0.012,    # right leg length\n",
    "    Spine: 0.2,   # distance between joints 1 and 2\n",
    "}\n",
    "\n",
    "# ---------- 3) Terrain profile ----------\n",
    "h = A * sin(2 * pi * x / T) + A \n",
    "pA_y = h.subs(x, pA_x)     # y of point A (depends only on pA_x)\n",
    "pB_y = h.subs(x, pB_x)     # y of point B (symbolic, still depends on pB_x)\n",
    "subs_dict[pA_y] = pA_y.subs(subs_dict).evalf()\n",
    "print(\"pA_x: \", subs_dict[pA_x], \" pA_y: \", subs_dict[pA_y])\n",
    "\n",
    "# ---------- 4) Arm length constraint (scalar) ----------\n",
    "eqArm = Eq(Arm, Spine**2 / sp.sqrt(Spine**2 + (Leg2 - Leg1)**2))\n",
    "Arm_val = N(eqArm.rhs.subs(subs_dict))   # compute Arm numerically\n",
    "subs_dict[Arm] = Arm_val                 # store back to dict\n",
    "print(\"Arm: \", subs_dict[Arm])\n",
    "\n",
    "# ---------- 5) B point must be Arm away from A ----------\n",
    "eqB = Eq((pB_x - pA_x)**2 + (pB_y - pA_y)**2, Arm**2)\n",
    "subs_dict[pB_x] = nsolve(eqB.subs(subs_dict), pB_x, subs_dict[pA_x] + 0.2)\n",
    "subs_dict[pB_y] = pB_y.subs(subs_dict).evalf()\n",
    "print(\"pB_x: \", subs_dict[pB_x], \" pB_y: \", subs_dict[pB_y])\n",
    "\n",
    "# ---------- 6) local geometry ----------\n",
    "beta = symbols(\"beta\")\n",
    "expr_beta = beta - sp.acos(((pB_x + Leg2 * sp.sin(beta)) - (pA_x + Leg1 * sp.sin(beta))) / Spine)\n",
    "subs_dict[beta] = nsolve(expr_beta.subs(subs_dict), beta, 0.5)\n",
    "print(subs_dict[beta])"
   ]
  },
  {
   "cell_type": "code",
   "execution_count": null,
   "id": "094dd7f5",
   "metadata": {},
   "outputs": [],
   "source": [
    "import matplotlib.pyplot as plt\n",
    "import numpy as np\n",
    "\n",
    "# ---------- 6b) Joint coordinates derived from β ----------\n",
    "x1, y1, x2, y2 = sp.symbols('x1 y1 x2 y2')\n",
    "\n",
    "x1_expr = pA_x + Leg1 * sp.sin(beta)\n",
    "y1_expr = pA_y + Leg1 * sp.cos(beta)\n",
    "\n",
    "x2_expr = pB_x + Leg2 * sp.sin(beta)\n",
    "y2_expr = pB_y + Leg2 * sp.cos(beta)\n",
    "\n",
    "subs_dict[x1] = float(x1_expr.subs(subs_dict))\n",
    "subs_dict[y1] = float(y1_expr.subs(subs_dict))\n",
    "subs_dict[x2] = float(x2_expr.subs(subs_dict))\n",
    "subs_dict[y2] = float(y2_expr.subs(subs_dict))\n",
    "\n",
    "\n",
    "# ---------- 7) Plot ----------\n",
    "plt.figure(figsize=(8, 5))\n",
    "\n",
    "# 1) Generate and plot the terrain curve\n",
    "x_start = float(subs_dict[pA_x]) - 0.1\n",
    "x_end   = float(subs_dict[pB_x]) + 0.1\n",
    "x_vals = np.linspace(x_start, x_end, 300)\n",
    "\n",
    "terrain_func = sp.lambdify(x, h.subs(subs_dict), modules='numpy')\n",
    "y_vals = terrain_func(x_vals)\n",
    "plt.plot(x_vals, y_vals, color='gray', linewidth=1, label='Terrain')\n",
    "\n",
    "# 2) Plot key points: PA, PB, X1, X2\n",
    "plt.scatter(\n",
    "    [subs_dict[pA_x], subs_dict[pB_x], subs_dict[x1], subs_dict[x2]],\n",
    "    [subs_dict[pA_y], subs_dict[pB_y], subs_dict[y1], subs_dict[y2]],\n",
    "    s=80, zorder=3\n",
    ")\n",
    "\n",
    "# 3) Add text labels for each point\n",
    "plt.text(subs_dict[pA_x], subs_dict[pA_y], 'PA', ha='right', va='bottom')\n",
    "plt.text(subs_dict[pB_x], subs_dict[pB_y], 'PB', ha='right', va='bottom')\n",
    "plt.text(subs_dict[x1],   subs_dict[y1],   'X1', ha='left',  va='bottom')\n",
    "plt.text(subs_dict[x2],   subs_dict[y2],   'X2', ha='left',  va='bottom')\n",
    "\n",
    "# 4) Draw lines for left leg, right leg, and spine\n",
    "plt.plot([subs_dict[pA_x], subs_dict[x1]],\n",
    "         [subs_dict[pA_y], subs_dict[y1]],\n",
    "         '--', label='Left leg')\n",
    "\n",
    "plt.plot([subs_dict[pB_x], subs_dict[x2]],\n",
    "         [subs_dict[pB_y], subs_dict[y2]],\n",
    "         '--', label='Right leg')\n",
    "\n",
    "plt.plot([subs_dict[x1],   subs_dict[x2]],\n",
    "         [subs_dict[y1],   subs_dict[y2]],\n",
    "         '-',  label='Spine')\n",
    "\n",
    "x_min = float(subs_dict[pA_x]) - 0.2\n",
    "x_max = float(subs_dict[pB_x]) + 0.2\n",
    "y_min = min(float(subs_dict[pA_y]), float(subs_dict[pB_y])) - 0.1\n",
    "y_max = max(float(subs_dict[y1]), float(subs_dict[y2]), float(subs_dict[pA_y]), float(subs_dict[pB_y])) + 0.2\n",
    "\n",
    "plt.xlim(x_min, x_max)\n",
    "plt.ylim(y_min, y_max)\n",
    "\n",
    "# 5) Set aspect ratio, grid, labels, and legend\n",
    "plt.title('Key points on terrain profile')\n",
    "plt.xlabel('x')\n",
    "plt.ylabel('y')\n",
    "plt.gca().set_aspect('equal', adjustable='box')\n",
    "plt.grid(True)\n",
    "plt.legend()\n",
    "plt.tight_layout()\n",
    "plt.show()\n"
   ]
  },
  {
   "cell_type": "markdown",
   "id": "92216efe",
   "metadata": {},
   "source": [
    "calculate  $\\dot{\\beta}$ and $\\ddot{\\beta}$"
   ]
  },
  {
   "cell_type": "code",
   "execution_count": 1,
   "id": "717b1bc8",
   "metadata": {},
   "outputs": [
    {
     "name": "stdout",
     "output_type": "stream",
     "text": [
      "β = asin((-l1(t)*cos(beta(t)) + l3(t)*cos(beta(t)) - pA_x(t) + pB_x(t))/l2(t))\n",
      "β̇ = (l1(t)*cos(beta(t))*Derivative(l2(t), t) - l2(t)*cos(beta(t))*Derivative(l1(t), t) + l2(t)*cos(beta(t))*Derivative(l3(t), t) - l2(t)*Derivative(pA_x(t), t) + l2(t)*Derivative(pB_x(t), t) - l3(t)*cos(beta(t))*Derivative(l2(t), t) + pA_x(t)*Derivative(l2(t), t) - pB_x(t)*Derivative(l2(t), t))/((sqrt((-(l1(t)*cos(beta(t)) - l3(t)*cos(beta(t)) + pA_x(t) - pB_x(t))**2 + l2(t)**2)/l2(t)**2)*l2(t) - l1(t)*sin(beta(t)) + l3(t)*sin(beta(t)))*l2(t))\n",
      "β̈ = -(l1(t)*cos(beta(t))*Derivative(l2(t), t) - l2(t)*cos(beta(t))*Derivative(l1(t), t) + l2(t)*cos(beta(t))*Derivative(l3(t), t) - l2(t)*Derivative(pA_x(t), t) + l2(t)*Derivative(pB_x(t), t) - l3(t)*cos(beta(t))*Derivative(l2(t), t) + pA_x(t)*Derivative(l2(t), t) - pB_x(t)*Derivative(l2(t), t))*Derivative(l2(t), t)/((sqrt((-(l1(t)*cos(beta(t)) - l3(t)*cos(beta(t)) + pA_x(t) - pB_x(t))**2 + l2(t)**2)/l2(t)**2)*l2(t) - l1(t)*sin(beta(t)) + l3(t)*sin(beta(t)))*l2(t)**2) + (-l1(t)*sin(beta(t))*Derivative(beta(t), t)*Derivative(l2(t), t) + l1(t)*cos(beta(t))*Derivative(l2(t), (t, 2)) + l2(t)*sin(beta(t))*Derivative(beta(t), t)*Derivative(l1(t), t) - l2(t)*sin(beta(t))*Derivative(beta(t), t)*Derivative(l3(t), t) - l2(t)*cos(beta(t))*Derivative(l1(t), (t, 2)) + l2(t)*cos(beta(t))*Derivative(l3(t), (t, 2)) - l2(t)*Derivative(pA_x(t), (t, 2)) + l2(t)*Derivative(pB_x(t), (t, 2)) + l3(t)*sin(beta(t))*Derivative(beta(t), t)*Derivative(l2(t), t) - l3(t)*cos(beta(t))*Derivative(l2(t), (t, 2)) + pA_x(t)*Derivative(l2(t), (t, 2)) - pB_x(t)*Derivative(l2(t), (t, 2)))/((sqrt((-(l1(t)*cos(beta(t)) - l3(t)*cos(beta(t)) + pA_x(t) - pB_x(t))**2 + l2(t)**2)/l2(t)**2)*l2(t) - l1(t)*sin(beta(t)) + l3(t)*sin(beta(t)))*l2(t)) + (-sqrt((-(l1(t)*cos(beta(t)) - l3(t)*cos(beta(t)) + pA_x(t) - pB_x(t))**2 + l2(t)**2)/l2(t)**2)*((-(l1(t)*cos(beta(t)) - l3(t)*cos(beta(t)) + pA_x(t) - pB_x(t))*(-2*l1(t)*sin(beta(t))*Derivative(beta(t), t) + 2*l3(t)*sin(beta(t))*Derivative(beta(t), t) + 2*cos(beta(t))*Derivative(l1(t), t) - 2*cos(beta(t))*Derivative(l3(t), t) + 2*Derivative(pA_x(t), t) - 2*Derivative(pB_x(t), t)) + 2*l2(t)*Derivative(l2(t), t))/(2*l2(t)**2) - (-(l1(t)*cos(beta(t)) - l3(t)*cos(beta(t)) + pA_x(t) - pB_x(t))**2 + l2(t)**2)*Derivative(l2(t), t)/l2(t)**3)*l2(t)**3/(-(l1(t)*cos(beta(t)) - l3(t)*cos(beta(t)) + pA_x(t) - pB_x(t))**2 + l2(t)**2) - sqrt((-(l1(t)*cos(beta(t)) - l3(t)*cos(beta(t)) + pA_x(t) - pB_x(t))**2 + l2(t)**2)/l2(t)**2)*Derivative(l2(t), t) + l1(t)*cos(beta(t))*Derivative(beta(t), t) - l3(t)*cos(beta(t))*Derivative(beta(t), t) + sin(beta(t))*Derivative(l1(t), t) - sin(beta(t))*Derivative(l3(t), t))*(l1(t)*cos(beta(t))*Derivative(l2(t), t) - l2(t)*cos(beta(t))*Derivative(l1(t), t) + l2(t)*cos(beta(t))*Derivative(l3(t), t) - l2(t)*Derivative(pA_x(t), t) + l2(t)*Derivative(pB_x(t), t) - l3(t)*cos(beta(t))*Derivative(l2(t), t) + pA_x(t)*Derivative(l2(t), t) - pB_x(t)*Derivative(l2(t), t))/((sqrt((-(l1(t)*cos(beta(t)) - l3(t)*cos(beta(t)) + pA_x(t) - pB_x(t))**2 + l2(t)**2)/l2(t)**2)*l2(t) - l1(t)*sin(beta(t)) + l3(t)*sin(beta(t)))**2*l2(t))\n"
     ]
    }
   ],
   "source": [
    "import sympy as sp\n",
    "t = sp.symbols('t')\n",
    "\n",
    "l1f, l2f, l3f = (sp.Function(f'l{i}') for i in range(1, 4))\n",
    "beta_f        = sp.Function('beta')\n",
    "pAxf, pBxf    = sp.Function('pA_x'), sp.Function('pB_x')\n",
    "\n",
    "l1, l2, l3 = l1f(t), l2f(t), l3f(t)\n",
    "beta       = beta_f(t)\n",
    "pA_x, pB_x = pAxf(t), pBxf(t)\n",
    "\n",
    "u = ((pB_x + sp.cos(beta)*l3) - (pA_x + sp.cos(beta)*l1)) / l2\n",
    "\n",
    "# -------- β --------\n",
    "beta_expr = sp.asin(u)\n",
    "print(\"β =\", beta_expr)\n",
    "\n",
    "# -------- β̇ --------\n",
    "beta_dot_expr = sp.diff(u, t) / sp.sqrt(1 - u**2)\n",
    "beta_dot_expr = sp.simplify(beta_dot_expr)\n",
    "\n",
    "beta_dot      = sp.Derivative(beta, t)\n",
    "beta_dot_sol  = sp.solve(sp.Eq(beta_dot_expr, beta_dot), beta_dot)[0]\n",
    "beta_dot_sol  = sp.simplify(beta_dot_sol)\n",
    "\n",
    "print(\"β̇ =\", beta_dot_sol)         \n",
    "\n",
    "# -------- β̈ --------\n",
    "beta_ddot_expr = sp.diff(beta_dot_sol, t)   \n",
    "\n",
    "print(\"β̈ =\", beta_ddot_expr)       "
   ]
  },
  {
   "cell_type": "markdown",
   "id": "8ef0d061",
   "metadata": {},
   "source": [
    "calculate $\\dot{r}_{com}$ and $\\ddot{r}_{com}$"
   ]
  },
  {
   "cell_type": "code",
   "execution_count": 8,
   "id": "98f0336b",
   "metadata": {},
   "outputs": [
    {
     "name": "stdout",
     "output_type": "stream",
     "text": [
      "r = Matrix([[l1(t)*cos(beta(t)) + l2(t)*sin(beta(t))/2 + pA_x(t)], [h(pA_x(t)) + l1(t)*sin(beta(t)) - l2(t)*cos(beta(t))/2]])\n",
      "ṙ = Matrix([[-l1(t)*sin(beta(t))*Derivative(beta(t), t) + l2(t)*cos(beta(t))*Derivative(beta(t), t)/2 + sin(beta(t))*Derivative(l2(t), t)/2 + cos(beta(t))*Derivative(l1(t), t) + Derivative(pA_x(t), t)], [l1(t)*cos(beta(t))*Derivative(beta(t), t) + l2(t)*sin(beta(t))*Derivative(beta(t), t)/2 + sin(beta(t))*Derivative(l1(t), t) - cos(beta(t))*Derivative(l2(t), t)/2 + Derivative(h(pA_x(t)), pA_x(t))*Derivative(pA_x(t), t)]])\n",
      "r̈ = Matrix([[-l1(t)*sin(beta(t))*Derivative(beta(t), (t, 2)) - l1(t)*cos(beta(t))*Derivative(beta(t), t)**2 - l2(t)*sin(beta(t))*Derivative(beta(t), t)**2/2 + l2(t)*cos(beta(t))*Derivative(beta(t), (t, 2))/2 - 2*sin(beta(t))*Derivative(beta(t), t)*Derivative(l1(t), t) + sin(beta(t))*Derivative(l2(t), (t, 2))/2 + cos(beta(t))*Derivative(beta(t), t)*Derivative(l2(t), t) + cos(beta(t))*Derivative(l1(t), (t, 2)) + Derivative(pA_x(t), (t, 2))], [-l1(t)*sin(beta(t))*Derivative(beta(t), t)**2 + l1(t)*cos(beta(t))*Derivative(beta(t), (t, 2)) + l2(t)*sin(beta(t))*Derivative(beta(t), (t, 2))/2 + l2(t)*cos(beta(t))*Derivative(beta(t), t)**2/2 + sin(beta(t))*Derivative(beta(t), t)*Derivative(l2(t), t) + sin(beta(t))*Derivative(l1(t), (t, 2)) + 2*cos(beta(t))*Derivative(beta(t), t)*Derivative(l1(t), t) - cos(beta(t))*Derivative(l2(t), (t, 2))/2 + Derivative(h(pA_x(t)), pA_x(t))*Derivative(pA_x(t), (t, 2)) + Derivative(h(pA_x(t)), (pA_x(t), 2))*Derivative(pA_x(t), t)**2]])\n"
     ]
    }
   ],
   "source": [
    "import sympy as sp\n",
    "t = sp.symbols('t')\n",
    "\n",
    "l1f, l2f, l3f = (sp.Function(f'l{i}') for i in range(1, 4))\n",
    "beta_f        = sp.Function('beta')\n",
    "pAxf, pBxf    = sp.Function('pA_x'), sp.Function('pB_x')\n",
    "\n",
    "l1, l2, l3 = l1f(t), l2f(t), l3f(t)\n",
    "beta       = beta_f(t)\n",
    "pA_x, pB_x = pAxf(t), pBxf(t)\n",
    "\n",
    "h = sp.Function('h')\n",
    "\n",
    "# -------- r --------\n",
    "r_expr = sp.Matrix([\n",
    "    pA_x + l1*sp.cos(beta) + sp.Rational(1, 2)*l2*sp.sin(beta),\n",
    "    h(pA_x) + l1*sp.sin(beta) - sp.Rational(1, 2)*l2*sp.cos(beta)\n",
    "])\n",
    "print(\"r =\", r_expr)\n",
    "\n",
    "# -------- ṙ --------\n",
    "r_dot_expr = sp.diff(r_expr, t)\n",
    "print(\"ṙ =\", r_dot_expr)\n",
    "\n",
    "# -------- r̈ --------\n",
    "r_ddot_expr = sp.diff(r_dot_expr, t)\n",
    "print(\"r̈ =\", r_ddot_expr)"
   ]
  },
  {
   "cell_type": "markdown",
   "id": "0f77df3c",
   "metadata": {},
   "source": [
    "calculate projection vectors"
   ]
  },
  {
   "cell_type": "code",
   "execution_count": 13,
   "id": "e388e84d",
   "metadata": {},
   "outputs": [
    {
     "data": {
      "text/latex": [
       "$\\displaystyle - \\frac{1}{\\sqrt{- \\frac{\\left(- l_{1}{\\left(t \\right)} \\cos{\\left(\\beta{\\left(t \\right)} \\right)} + l_{3}{\\left(t \\right)} \\cos{\\left(\\beta{\\left(t \\right)} \\right)} - \\operatorname{pA}_{x}{\\left(t \\right)} + \\operatorname{pB}_{x}{\\left(t \\right)}\\right)^{2}}{l_{2}^{2}{\\left(t \\right)}} + 1} l_{2}{\\left(t \\right)}}$"
      ],
      "text/plain": [
       "-1/(sqrt(-(-l1(t)*cos(beta(t)) + l3(t)*cos(beta(t)) - pA_x(t) + pB_x(t))**2/l2(t)**2 + 1)*l2(t))"
      ]
     },
     "metadata": {},
     "output_type": "display_data"
    }
   ],
   "source": [
    "import sympy as sp\n",
    "\n",
    "t = sp.symbols('t')\n",
    "pA_x = sp.Function('pA_x')(t)\n",
    "l1f, l2f, l3f = (sp.Function(f'l{i}')(t) for i in range(1, 4))\n",
    "beta = sp.Function('beta')(pA_x, l1f, l2f, l3f)\n",
    "pB_x = sp.Function('pB_x')(pA_x, l1f, l2f, l3f)\n",
    "\n",
    "lhs = sp.diff(beta, pA_x)\n",
    "d_expr_dpA = sp.diff(beta_expr, pA_x)\n",
    "d_expr_dpB = sp.diff(beta_expr, pB_x)\n",
    "d_expr_dbeta = sp.diff(beta_expr, beta)\n",
    "d_pB_dpA = sp.diff(pB_x, pA_x)\n",
    "\n",
    "rhs_total = d_expr_dpA + d_expr_dpB * d_pB_dpA + d_expr_dbeta * lhs\n",
    "sol = sp.solve(sp.Eq(lhs, rhs_total), lhs)\n",
    "display(sol[0])"
   ]
  }
 ],
 "metadata": {
  "kernelspec": {
   "display_name": "base",
   "language": "python",
   "name": "python3"
  },
  "language_info": {
   "codemirror_mode": {
    "name": "ipython",
    "version": 3
   },
   "file_extension": ".py",
   "mimetype": "text/x-python",
   "name": "python",
   "nbconvert_exporter": "python",
   "pygments_lexer": "ipython3",
   "version": "3.12.2"
  }
 },
 "nbformat": 4,
 "nbformat_minor": 5
}
