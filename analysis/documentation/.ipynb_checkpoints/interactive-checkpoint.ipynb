{
 "cells": [
  {
   "cell_type": "code",
   "execution_count": null,
   "id": "c35f3818",
   "metadata": {},
   "outputs": [],
   "source": []
  },
  {
   "cell_type": "code",
   "execution_count": 1,
   "id": "1c4971de",
   "metadata": {},
   "outputs": [
    {
     "name": "stderr",
     "output_type": "stream",
     "text": [
      "/opt/anaconda3/lib/python3.12/site-packages/IPython/core/pylabtools.py:170: UserWarning: Glyph 10060 (\\N{CROSS MARK}) missing from font(s) DejaVu Sans.\n",
      "  fig.canvas.print_figure(bytes_io, **kw)\n"
     ]
    },
    {
     "data": {
      "image/png": "[encoded data removed]",
      "text/plain": [
       "<Figure size 640x480 with 1 Axes>"
      ]
     },
     "metadata": {},
     "output_type": "display_data"
    }
   ],
   "source": [
    "import numpy as np\n",
    "import matplotlib.pyplot as plt\n",
    "from sympy import Point, Circle\n",
    "\n",
    "# 设定固定参数\n",
    "A = Point(5, 0)\n",
    "B = Point(20, 0)\n",
    "r1 = 5\n",
    "r2 = 5\n",
    "r3 = 8\n",
    "theta_deg = 45  # 改变这个角度值可以看到不同效果\n",
    "\n",
    "# 计算圆上的一点 P\n",
    "theta = np.radians(theta_deg)\n",
    "P = Point(A.x + r1 * np.cos(theta), A.y + r1 * np.sin(theta))\n",
    "\n",
    "# 定义圆\n",
    "circle1 = Circle(A, r1)\n",
    "circle2 = Circle(B, r2)\n",
    "circle3 = Circle(P, r3)\n",
    "\n",
    "# 判断是否交叉\n",
    "intersection = circle2.intersection(circle3)\n",
    "\n",
    "# 可视化\n",
    "fig, ax = plt.subplots()\n",
    "ax.set_aspect('equal')\n",
    "ax.set_xlim(-5, 30)\n",
    "ax.set_ylim(-15, 15)\n",
    "\n",
    "for center, r, color in [(A, r1, 'blue'), (B, r2, 'red'), (P, r3, 'green')]:\n",
    "    c = plt.Circle((float(center.x), float(center.y)), float(r), fill=False, color=color, linewidth=2)\n",
    "    ax.add_patch(c)\n",
    "\n",
    "# 点 P\n",
    "ax.plot(float(P.x), float(P.y), 'ko')\n",
    "ax.annotate('P', (float(P.x) + 0.5, float(P.y) + 0.5))\n",
    "\n",
    "# 显示交点信息\n",
    "ax.set_title(\"❌ Intersects\" if intersection else \"✅ No Intersection\")\n",
    "\n",
    "plt.grid(True)\n",
    "plt.show()\n"
   ]
  },
  {
   "cell_type": "code",
   "execution_count": 2,
   "id": "a6ad2e64",
   "metadata": {},
   "outputs": [
    {
     "data": {
      "text/plain": [
       "Text(7.828427124746192, 4.242640687119287, 'Tangent')"
      ]
     },
     "execution_count": 2,
     "metadata": {},
     "output_type": "execute_result"
    }
   ],
   "source": [
    "# 计算切线方向\n",
    "tangent_angle = theta + np.pi / 2  # 垂直方向\n",
    "tx = np.cos(tangent_angle)\n",
    "ty = np.sin(tangent_angle)\n",
    "\n",
    "# 添加切线箭头\n",
    "ax.arrow(float(P.x), float(P.y), tx, ty, head_width=0.5, color='black')\n",
    "ax.annotate(\"Tangent\", (float(P.x + tx), float(P.y + ty)))\n"
   ]
  },
  {
   "cell_type": "code",
   "execution_count": 3,
   "id": "8411ac3c",
   "metadata": {},
   "outputs": [
    {
     "data": {
      "application/vnd.jupyter.widget-view+json": {
       "model_id": "eb5d26cd91f64f05865126ef75df66a5",
       "version_major": 2,
       "version_minor": 0
      },
      "text/plain": [
       "interactive(children=(FloatSlider(value=45.0, description='theta_deg', max=360.0, step=1.0), Output()), _dom_c…"
      ]
     },
     "metadata": {},
     "output_type": "display_data"
    },
    {
     "data": {
      "text/plain": [
       "<function __main__.update_plot(theta_deg)>"
      ]
     },
     "execution_count": 3,
     "metadata": {},
     "output_type": "execute_result"
    }
   ],
   "source": [
    "from ipywidgets import interact, FloatSlider\n",
    "\n",
    "def update_plot(theta_deg):\n",
    "    # 把例子1中的代码包到这个函数里\n",
    "    pass\n",
    "\n",
    "interact(update_plot, theta_deg=FloatSlider(min=0, max=360, step=1, value=45))\n"
   ]
  },
  {
   "cell_type": "code",
   "execution_count": 6,
   "id": "58826243",
   "metadata": {},
   "outputs": [],
   "source": [
    "from IPython.display import HTML\n",
    "\n",
    "html_code = \"\"\"\n",
    "<div id=\"cindyjs-div\" style=\"width:600px; height:400px;\"></div>\n",
    "<script src=\"https://cindyjs.org/dist/v0.8/Cindy.js\"></script>\n",
    "<script>\n",
    "var cdy = CindyJS({\n",
    "  canvasname: \"cindyjs-div\",\n",
    "  scripts: {},\n",
    "  geometry: [\n",
    "    {name: \"O\", type: \"Free\", pos: [5, 0], color: [0, 0, 1]},\n",
    "    {name: \"C\", type: \"CircleByRadius\", args: [\"O\"], radius: 5},\n",
    "    {name: \"P\", type: \"PointOnCircle\", args: [\"C\"], color: [0, 0, 0]},\n",
    "    {name: \"T\", type: \"Tangent\", args: [\"C\", \"P\"], color: [0.2, 0.8, 0.2]}\n",
    "  ],\n",
    "  ports: [{\n",
    "    id: \"cindyjs-div\",\n",
    "    width: 600,\n",
    "    height: 400,\n",
    "    transform: [{visibleRect: [-10, -10, 20, 10]}]\n",
    "  }]\n",
    "});\n",
    "</script>\n",
    "\"\"\"\n"
   ]
  },
  {
   "cell_type": "code",
   "execution_count": 8,
   "id": "4e481d0f",
   "metadata": {},
   "outputs": [
    {
     "data": {
      "text/html": [
       "\n",
       "<div id=\"cindyjs-div\" style=\"width:600px; height:400px;\"></div>\n",
       "<script src=\"https://cindyjs.org/dist/v0.8/Cindy.js\"></script>\n",
       "<script>\n",
       "var cdy = CindyJS({\n",
       "  canvasname: \"cindyjs-div\",\n",
       "  scripts: {},\n",
       "  geometry: [\n",
       "    {name: \"O\", type: \"Free\", pos: [5, 0], color: [0, 0, 1]},\n",
       "    {name: \"C\", type: \"CircleByRadius\", args: [\"O\"], radius: 5},\n",
       "    {name: \"P\", type: \"PointOnCircle\", args: [\"C\"], color: [0, 0, 0]},\n",
       "    {name: \"T\", type: \"Tangent\", args: [\"C\", \"P\"], color: [0.2, 0.8, 0.2]}\n",
       "  ],\n",
       "  ports: [{\n",
       "    id: \"cindyjs-div\",\n",
       "    width: 600,\n",
       "    height: 400,\n",
       "    transform: [{visibleRect: [-10, -10, 20, 10]}]\n",
       "  }]\n",
       "});\n",
       "</script>\n"
      ],
      "text/plain": [
       "<IPython.core.display.HTML object>"
      ]
     },
     "execution_count": 8,
     "metadata": {},
     "output_type": "execute_result"
    }
   ],
   "source": [
    "HTML(html_code)"
   ]
  }
 ],
 "metadata": {
  "kernelspec": {
   "display_name": "base",
   "language": "python",
   "name": "python3"
  },
  "language_info": {
   "codemirror_mode": {
    "name": "ipython",
    "version": 3
   },
   "file_extension": ".py",
   "mimetype": "text/x-python",
   "name": "python",
   "nbconvert_exporter": "python",
   "pygments_lexer": "ipython3",
   "version": "3.12.2"
  }
 },
 "nbformat": 4,
 "nbformat_minor": 5
}
